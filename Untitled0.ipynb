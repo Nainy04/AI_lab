{
  "nbformat": 4,
  "nbformat_minor": 0,
  "metadata": {
    "colab": {
      "provenance": [],
      "toc_visible": true,
      "runtime_attributes": {
        "runtime_version": "2025.07"
      }
    },
    "kernelspec": {
      "name": "python3",
      "display_name": "Python 3"
    },
    "language_info": {
      "name": "python"
    }
  },
  "cells": [
    {
      "cell_type": "markdown",
      "source": [],
      "metadata": {
        "id": "03HJeMIcEYMu"
      }
    },
    {
      "cell_type": "markdown",
      "source": [
        "# matplotlib\n"
      ],
      "metadata": {
        "id": "rrSEo0_kEgs_"
      }
    },
    {
      "cell_type": "code",
      "source": [
        "pip install matplotlib"
      ],
      "metadata": {
        "colab": {
          "base_uri": "https://localhost:8080/"
        },
        "id": "TGYwDhgWFAtf",
        "outputId": "d7021e98-01bd-4a42-876e-7715e61ea924"
      },
      "execution_count": 1,
      "outputs": [
        {
          "output_type": "stream",
          "name": "stdout",
          "text": [
            "Requirement already satisfied: matplotlib in /usr/local/lib/python3.12/dist-packages (3.10.0)\n",
            "Requirement already satisfied: contourpy>=1.0.1 in /usr/local/lib/python3.12/dist-packages (from matplotlib) (1.3.3)\n",
            "Requirement already satisfied: cycler>=0.10 in /usr/local/lib/python3.12/dist-packages (from matplotlib) (0.12.1)\n",
            "Requirement already satisfied: fonttools>=4.22.0 in /usr/local/lib/python3.12/dist-packages (from matplotlib) (4.59.2)\n",
            "Requirement already satisfied: kiwisolver>=1.3.1 in /usr/local/lib/python3.12/dist-packages (from matplotlib) (1.4.9)\n",
            "Requirement already satisfied: numpy>=1.23 in /usr/local/lib/python3.12/dist-packages (from matplotlib) (2.0.2)\n",
            "Requirement already satisfied: packaging>=20.0 in /usr/local/lib/python3.12/dist-packages (from matplotlib) (25.0)\n",
            "Requirement already satisfied: pillow>=8 in /usr/local/lib/python3.12/dist-packages (from matplotlib) (11.3.0)\n",
            "Requirement already satisfied: pyparsing>=2.3.1 in /usr/local/lib/python3.12/dist-packages (from matplotlib) (3.2.3)\n",
            "Requirement already satisfied: python-dateutil>=2.7 in /usr/local/lib/python3.12/dist-packages (from matplotlib) (2.9.0.post0)\n",
            "Requirement already satisfied: six>=1.5 in /usr/local/lib/python3.12/dist-packages (from python-dateutil>=2.7->matplotlib) (1.17.0)\n"
          ]
        }
      ]
    },
    {
      "cell_type": "code",
      "source": [
        "import matplotlib as mlt\n",
        "import numpy as np"
      ],
      "metadata": {
        "id": "O5A8TLtBFLTg"
      },
      "execution_count": 4,
      "outputs": []
    },
    {
      "cell_type": "code",
      "source": [
        "list = [1,2,2,3,4,5,5,123,123,12321,31,312,312]\n",
        "print(list.index(1))\n",
        "print(list)\n",
        "tuple = ('apple','bannana ','watermellon','mango')\n",
        "print(tuple[1])\n",
        "print(tuple[-2])\n"
      ],
      "metadata": {
        "colab": {
          "base_uri": "https://localhost:8080/"
        },
        "id": "yyd8E0C3FVH9",
        "outputId": "2f76a8f4-cced-4db0-bcaf-52ed7ec7c423"
      },
      "execution_count": 28,
      "outputs": [
        {
          "output_type": "stream",
          "name": "stdout",
          "text": [
            "0\n",
            "[1, 2, 2, 3, 4, 5, 5, 123, 123, 12321, 31, 312, 312]\n",
            "bannana \n",
            "watermellon\n"
          ]
        }
      ]
    },
    {
      "cell_type": "markdown",
      "source": [
        "**Numpy**"
      ],
      "metadata": {
        "id": "Z2HN5M6PEgO2"
      }
    },
    {
      "cell_type": "code",
      "source": [],
      "metadata": {
        "id": "sz1wkR-HFKkY"
      },
      "execution_count": null,
      "outputs": []
    },
    {
      "cell_type": "markdown",
      "source": [
        "**Lit**\n",
        "\n",
        "\n"
      ],
      "metadata": {
        "id": "rhPFAg0KEff1"
      }
    },
    {
      "cell_type": "markdown",
      "source": [
        "**tuple**"
      ],
      "metadata": {
        "id": "CjboxlQLEvIQ"
      }
    },
    {
      "cell_type": "markdown",
      "source": [
        "**set**"
      ],
      "metadata": {
        "id": "JlbO8snEEzkn"
      }
    },
    {
      "cell_type": "markdown",
      "source": [],
      "metadata": {
        "id": "4hSfU7JSE5N_"
      }
    },
    {
      "cell_type": "code",
      "metadata": {
        "id": "7c5001bf"
      },
      "source": [],
      "execution_count": null,
      "outputs": []
    },
    {
      "cell_type": "code",
      "source": [
        "my_list = (1,2,2,3,4,5,5,123,123,12321,31,312,312)\n",
        "new = list(my_list)\n",
        "print(new)\n"
      ],
      "metadata": {
        "colab": {
          "base_uri": "https://localhost:8080/"
        },
        "id": "v0MoKypPQpsB",
        "outputId": "c62c7721-dfaf-44d2-fa6c-2393289be595"
      },
      "execution_count": 2,
      "outputs": [
        {
          "output_type": "stream",
          "name": "stdout",
          "text": [
            "[1, 2, 2, 3, 4, 5, 5, 123, 123, 12321, 31, 312, 312]\n"
          ]
        }
      ]
    },
    {
      "cell_type": "code",
      "source": [
        "my_set = {1,2,3,4,5,7,8,1,3}\n",
        "mySet_2 = {1,2,123,1234,123124}\n",
        "\n",
        "union = my_set.union(mySet_2)\n",
        "intersection = my_set.intersection(mySet_2)\n",
        "difference = my_set.difference(mySet_2)\n",
        "\n",
        "print(union)\n",
        "print(intersection)\n",
        "print(difference)\n",
        "\n",
        "my_set.add(11232)\n",
        "print(my_set)\n",
        "\n",
        "my_set.remove(1)\n",
        "print(my_set)"
      ],
      "metadata": {
        "colab": {
          "base_uri": "https://localhost:8080/"
        },
        "id": "m3Uio_YYRszR",
        "outputId": "6211aa4e-7197-4d14-d92b-819f1cff271c"
      },
      "execution_count": 17,
      "outputs": [
        {
          "output_type": "stream",
          "name": "stdout",
          "text": [
            "{1, 2, 3, 4, 5, 7, 8, 1234, 123124, 123}\n",
            "{1, 2}\n",
            "{3, 4, 5, 7, 8}\n",
            "{11232, 1, 2, 3, 4, 5, 7, 8}\n",
            "{11232, 2, 3, 4, 5, 7, 8}\n"
          ]
        }
      ]
    },
    {
      "cell_type": "code",
      "source": [
        "student = {\n",
        "    \"name\" : \"hasnain\",\n",
        "    \"gpa\" : 4.0,\n",
        "    \"semester\" : 6,\n",
        "    \"age\" : 21,\n",
        "    \"is_student\" : True\n",
        "\n",
        "    }"
      ],
      "metadata": {
        "id": "Yvs2emNQUZJz"
      },
      "execution_count": 19,
      "outputs": []
    },
    {
      "cell_type": "code",
      "source": [
        "print(student[\"name\"])"
      ],
      "metadata": {
        "colab": {
          "base_uri": "https://localhost:8080/"
        },
        "id": "ZAtwt-VRXCvD",
        "outputId": "70e399e9-e825-4612-c04a-9900569b4dc8"
      },
      "execution_count": 20,
      "outputs": [
        {
          "output_type": "stream",
          "name": "stdout",
          "text": [
            "hasnain\n"
          ]
        }
      ]
    },
    {
      "cell_type": "code",
      "source": [
        "student[\"name\"] = \"ali\""
      ],
      "metadata": {
        "id": "lqPkl05ZXSHj"
      },
      "execution_count": 21,
      "outputs": []
    },
    {
      "cell_type": "code",
      "source": [
        "print(student[\"name\"])"
      ],
      "metadata": {
        "colab": {
          "base_uri": "https://localhost:8080/"
        },
        "id": "ynXBhcMTXVCC",
        "outputId": "6f8a0d72-36a3-4058-eaaf-052cf7fd1418"
      },
      "execution_count": 22,
      "outputs": [
        {
          "output_type": "stream",
          "name": "stdout",
          "text": [
            "ali\n"
          ]
        }
      ]
    },
    {
      "cell_type": "code",
      "source": [
        "student2 = {\n",
        "    \"name\" : \"hasnain\",\n",
        "    \"gpa\" : 4.0,\n",
        "    \"semester\" : 6,\n",
        "    \"age\" : 21,\n",
        "    \"is_student\" : True,\n",
        "    \"name\" : \"ali\"\n",
        "\n",
        "    }"
      ],
      "metadata": {
        "id": "1ruFri-dXvay"
      },
      "execution_count": 28,
      "outputs": []
    },
    {
      "cell_type": "code",
      "source": [
        "print(student2[\"name\"])"
      ],
      "metadata": {
        "colab": {
          "base_uri": "https://localhost:8080/"
        },
        "id": "5f6uZzUDYU1U",
        "outputId": "6ce75314-c541-4185-88c9-e5196ac6b3d0"
      },
      "execution_count": 29,
      "outputs": [
        {
          "output_type": "stream",
          "name": "stdout",
          "text": [
            "ali\n"
          ]
        }
      ]
    },
    {
      "cell_type": "code",
      "source": [],
      "metadata": {
        "id": "BIpaD9YgYjBj"
      },
      "execution_count": null,
      "outputs": []
    }
  ]
}