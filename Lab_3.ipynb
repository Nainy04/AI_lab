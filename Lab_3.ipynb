{
  "nbformat": 4,
  "nbformat_minor": 0,
  "metadata": {
    "colab": {
      "provenance": []
    },
    "kernelspec": {
      "name": "python3",
      "display_name": "Python 3"
    },
    "language_info": {
      "name": "python"
    }
  },
  "cells": [
    {
      "cell_type": "code",
      "execution_count": 1,
      "metadata": {
        "id": "2fNSJ1BvHC8A"
      },
      "outputs": [],
      "source": [
        "from collections import deque"
      ]
    },
    {
      "cell_type": "markdown",
      "source": [
        "we have a graph in form of a dictionarry.\n",
        "\n",
        "it is undirected\n"
      ],
      "metadata": {
        "id": "yj1TKVBjOiUF"
      }
    },
    {
      "cell_type": "code",
      "source": [
        "pakistan_cities = {\n",
        "    'Karachi': ['Hyderabad'],\n",
        "    'Hyderabad': ['Karachi', 'Sukkur'],\n",
        "    'Sukkur': ['Hyderabad', 'Multan', 'Quetta'],\n",
        "    'Multan': ['Sukkur', 'Lahore'],\n",
        "    'Quetta': ['Sukkur'],\n",
        "    'Lahore': ['Multan', 'Islamabad'],\n",
        "    'Islamabad': ['Lahore', 'Peshawar'],\n",
        "    'Peshawar': ['Islamabad']\n",
        "}"
      ],
      "metadata": {
        "id": "d6s5fEQpHVQZ"
      },
      "execution_count": 2,
      "outputs": []
    },
    {
      "cell_type": "markdown",
      "source": [
        "we create two funcitons for bsf and dfs\n",
        "\n",
        " breath first search and depth first search\n",
        "\n",
        " to the fucntion we pass the graph which we are treversing , the root node from where it starts and the goal node or the target"
      ],
      "metadata": {
        "id": "99_Yv4LuO_tO"
      }
    },
    {
      "cell_type": "code",
      "source": [
        "\n",
        "def bfs(graph, root, goal):\n",
        "    visited = []\n",
        "    queue = deque([root])\n",
        "    while queue:\n",
        "        node = queue.popleft()\n",
        "        visited.append(node)\n",
        "        if node == goal:\n",
        "            return visited\n",
        "        for neighbour in graph[node]:\n",
        "\n",
        "          if neighbour not in visited:\n",
        "            queue.append(neighbour)\n",
        "\n",
        "    print(\"the goal is not found\")\n",
        "    return visited"
      ],
      "metadata": {
        "id": "LLxZtKdyHY7B"
      },
      "execution_count": 44,
      "outputs": []
    },
    {
      "cell_type": "markdown",
      "source": [
        "depth first search"
      ],
      "metadata": {
        "id": "dTb6H_WDWwY0"
      }
    },
    {
      "cell_type": "code",
      "source": [
        "def dfs(graph, root, goal):\n",
        "    visited = []\n",
        "    stack = [root]\n",
        "    while stack:\n",
        "        node = stack.pop()\n",
        "        visited.append(node)\n",
        "        if node == goal:\n",
        "            return visited\n",
        "        for neighbour in graph[node]:\n",
        "            if neighbour not in visited:\n",
        "                stack.append(neighbour)"
      ],
      "metadata": {
        "id": "mQMhnUWqQCUB"
      },
      "execution_count": 47,
      "outputs": []
    },
    {
      "cell_type": "code",
      "source": [
        "bfs_path = bfs(pakistan_cities, 'Karachi', 'Peshawar')\n",
        "dfs_path = dfs(pakistan_cities, 'Karachi', 'Peshawar')\n",
        "\n",
        "print(bfs_path)\n",
        "print(dfs_path)"
      ],
      "metadata": {
        "colab": {
          "base_uri": "https://localhost:8080/"
        },
        "id": "cPD237K6Xhv4",
        "outputId": "09aa470a-f3db-468f-bb87-6dfc3098360d"
      },
      "execution_count": 48,
      "outputs": [
        {
          "output_type": "stream",
          "name": "stdout",
          "text": [
            "['Karachi', 'Hyderabad', 'Sukkur', 'Multan', 'Quetta', 'Lahore', 'Islamabad', 'Peshawar']\n",
            "['Karachi', 'Hyderabad', 'Sukkur', 'Quetta', 'Multan', 'Lahore', 'Islamabad', 'Peshawar']\n"
          ]
        }
      ]
    },
    {
      "cell_type": "code",
      "source": [],
      "metadata": {
        "id": "lOy8suZ3XxJT"
      },
      "execution_count": null,
      "outputs": []
    }
  ]
}